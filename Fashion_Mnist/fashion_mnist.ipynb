{
 "cells": [
  {
   "cell_type": "code",
   "execution_count": 0,
   "metadata": {
    "colab": {},
    "colab_type": "code",
    "id": "LndVtBUiSCBd"
   },
   "outputs": [],
   "source": [
    "\n",
    "\n",
    "# 1. Authenticate and create the PyDrive client.\n",
    "auth.authenticate_user()\n",
    "gauth = GoogleAuth()\n",
    "gauth.credentials = GoogleCredentials.get_application_default()\n",
    "drive = GoogleDrive(gauth)\n",
    "\n",
    "#2. Get the file\n",
    "downloaded = drive.CreateFile({'id':''}) # replace the id with id of file you want to access\n",
    "downloaded.GetContentFile('fashion-mnist_test.csv')  \n",
    "\n",
    "#3. Read file as panda dataframe\n",
    "import pandas as pd\n",
    "data_train = pd.read_csv('fashion-mnist_test.csv')\n",
    "\n",
    "downloaded = drive.CreateFile({'id':''}) # replace the id with id of file you want to access\n",
    "downloaded.GetContentFile('fashion-mnist_test.csv') \n",
    "\n",
    "\n",
    "data_test = pd.read_csv('fashion-mnist_train.csv')"
   ]
  },
  {
   "cell_type": "code",
   "execution_count": 0,
   "metadata": {
    "colab": {},
    "colab_type": "code",
    "id": "e5jGOP67SCA_",
    "outputId": "26a3f0b5-7780-4099-dfdc-b326c654a72e"
   },
   "outputs": [
    {
     "name": "stdout",
     "output_type": "stream",
     "text": [
      "fashion-mnist_test.csv\n",
      "fashion-mnist_train.csv\n",
      "t10k-images-idx3-ubyte\n",
      "t10k-labels-idx1-ubyte\n",
      "train-images-idx3-ubyte\n",
      "train-labels-idx1-ubyte\n",
      "\n"
     ]
    }
   ],
   "source": [
    "# This Python 3 environment comes with many helpful analytics libraries installed\n",
    "# It is defined by the kaggle/python docker image: https://github.com/kaggle/docker-python\n",
    "# For example, here's several helpful packages to load in \n",
    "\n",
    "import numpy as np # linear algebra\n",
    "import pandas as pd # data processing, CSV file I/O (e.g. pd.read_csv)\n",
    "\n",
    "# Input data files are available in the \"../input/\" directory.\n",
    "# For example, running this (by clicking run or pressing Shift+Enter) will list the files in the input directory\n",
    "\n",
    "from subprocess import check_output\n",
    "print(check_output([\"ls\", \"fashionmnist\"]).decode(\"utf8\"))\n",
    "\n",
    "# Any results you write to the current directory are saved as output."
   ]
  },
  {
   "cell_type": "code",
   "execution_count": 7,
   "metadata": {
    "colab": {
     "base_uri": "https://localhost:8080/",
     "height": 35
    },
    "colab_type": "code",
    "id": "m1YW91QZSCBJ",
    "outputId": "1543d79c-9ac9-4069-ce51-c3cfdf814a57"
   },
   "outputs": [
    {
     "name": "stderr",
     "output_type": "stream",
     "text": [
      "Using TensorFlow backend.\n"
     ]
    }
   ],
   "source": [
    "from keras.utils import to_categorical\n",
    "from sklearn.model_selection import train_test_split\n",
    "import numpy as np\n",
    "\n",
    "\n",
    "img_rows, img_cols = 28, 28\n",
    "input_shape = (img_rows, img_cols,1)\n",
    "\n",
    "X =np.array(data_train.iloc[:,1:])\n",
    "y = to_categorical(np.array(data_train.iloc[:,0]))\n",
    "                   \n",
    "#Here we split validation data to optimiza classifier during training\n",
    "X_train, X_val, y_train, y_val = train_test_split(X, y, test_size=0.2, random_state=13)\n",
    "                   \n",
    "#Test data\n",
    "X_test = np.array(data_test.iloc[:, 1:])\n",
    "y_test = to_categorical(np.array(data_test.iloc[:, 0]))\n",
    "\n",
    "\n",
    "\n",
    "X_train = X_train.reshape(X_train.shape[0], img_rows, img_cols, 1)\n",
    "X_test = X_test.reshape(X_test.shape[0], img_rows, img_cols, 1)\n",
    "X_val = X_val.reshape(X_val.shape[0], img_rows, img_cols, 1)\n",
    "\n",
    "X_train = X_train.astype('float32')\n",
    "X_test = X_test.astype('float32')\n",
    "X_val = X_val.astype('float32')\n",
    "X_train /= 255\n",
    "X_test /= 255\n",
    "X_val /= 255"
   ]
  },
  {
   "cell_type": "code",
   "execution_count": 0,
   "metadata": {
    "colab": {},
    "colab_type": "code",
    "id": "kZJerQ-bSCBN"
   },
   "outputs": [],
   "source": [
    "import keras\n",
    "from keras.models import Sequential\n",
    "from keras.layers import Dense, Dropout, Flatten\n",
    "from keras.layers import Conv2D , MaxPooling2D\n",
    "from keras.layers import BatchNormalization\n",
    "\n",
    "batch_size = 256\n",
    "num_classes = 10\n",
    "epochs = 50\n",
    "\n",
    "img_rows, img_cols = 28,28\n"
   ]
  },
  {
   "cell_type": "code",
   "execution_count": 0,
   "metadata": {
    "colab": {},
    "colab_type": "code",
    "id": "zNOfU6qZSCBQ"
   },
   "outputs": [],
   "source": [
    "model = Sequential()"
   ]
  },
  {
   "cell_type": "code",
   "execution_count": 0,
   "metadata": {
    "colab": {},
    "colab_type": "code",
    "id": "35CyRDlrSCBS"
   },
   "outputs": [],
   "source": [
    "model.add(Conv2D(32,kernel_size= (3,3),\n",
    "                 activation = 'relu',\n",
    "                kernel_initializer='he_normal',\n",
    "                 input_shape=input_shape\n",
    "                ))\n",
    "model.add(MaxPooling2D((2, 2)))\n",
    "model.add(Dropout(0.25))\n",
    "model.add(Conv2D(64, (3, 3), activation='relu'))\n",
    "model.add(MaxPooling2D(pool_size=(2, 2)))\n",
    "model.add(Dropout(0.25))\n",
    "model.add(Conv2D(128, (3, 3), activation='relu'))\n",
    "model.add(Dropout(0.4))\n",
    "model.add(Flatten())\n",
    "model.add(Dense(128, activation='relu'))\n",
    "model.add(Dropout(0.3))\n",
    "model.add(Dense(num_classes, activation='softmax'))"
   ]
  },
  {
   "cell_type": "code",
   "execution_count": 0,
   "metadata": {
    "colab": {},
    "colab_type": "code",
    "id": "zc92Vv8SSCBV"
   },
   "outputs": [],
   "source": [
    "model.compile(loss=keras.losses.categorical_crossentropy,\n",
    "              optimizer=keras.optimizers.Adam(),\n",
    "              metrics=['accuracy'])"
   ]
  },
  {
   "cell_type": "code",
   "execution_count": 12,
   "metadata": {
    "colab": {
     "base_uri": "https://localhost:8080/",
     "height": 575
    },
    "colab_type": "code",
    "id": "x-yl_69wSCBX",
    "outputId": "d36a7c7e-d901-4e18-a599-788b6bdc4474"
   },
   "outputs": [
    {
     "name": "stdout",
     "output_type": "stream",
     "text": [
      "_________________________________________________________________\n",
      "Layer (type)                 Output Shape              Param #   \n",
      "=================================================================\n",
      "conv2d_1 (Conv2D)            (None, 26, 26, 32)        320       \n",
      "_________________________________________________________________\n",
      "max_pooling2d_1 (MaxPooling2 (None, 13, 13, 32)        0         \n",
      "_________________________________________________________________\n",
      "dropout_1 (Dropout)          (None, 13, 13, 32)        0         \n",
      "_________________________________________________________________\n",
      "conv2d_2 (Conv2D)            (None, 11, 11, 64)        18496     \n",
      "_________________________________________________________________\n",
      "max_pooling2d_2 (MaxPooling2 (None, 5, 5, 64)          0         \n",
      "_________________________________________________________________\n",
      "dropout_2 (Dropout)          (None, 5, 5, 64)          0         \n",
      "_________________________________________________________________\n",
      "conv2d_3 (Conv2D)            (None, 3, 3, 128)         73856     \n",
      "_________________________________________________________________\n",
      "dropout_3 (Dropout)          (None, 3, 3, 128)         0         \n",
      "_________________________________________________________________\n",
      "flatten_1 (Flatten)          (None, 1152)              0         \n",
      "_________________________________________________________________\n",
      "dense_1 (Dense)              (None, 128)               147584    \n",
      "_________________________________________________________________\n",
      "dropout_4 (Dropout)          (None, 128)               0         \n",
      "_________________________________________________________________\n",
      "dense_2 (Dense)              (None, 10)                1290      \n",
      "=================================================================\n",
      "Total params: 241,546\n",
      "Trainable params: 241,546\n",
      "Non-trainable params: 0\n",
      "_________________________________________________________________\n"
     ]
    }
   ],
   "source": [
    "model.summary()"
   ]
  },
  {
   "cell_type": "code",
   "execution_count": 13,
   "metadata": {
    "colab": {
     "base_uri": "https://localhost:8080/",
     "height": 1835
    },
    "colab_type": "code",
    "id": "QIQiq5FZSCBa",
    "outputId": "783a09a7-a9e2-42f5-d7c4-f26b3bbd5e03"
   },
   "outputs": [
    {
     "name": "stdout",
     "output_type": "stream",
     "text": [
      "Train on 8000 samples, validate on 2000 samples\n",
      "Epoch 1/50\n",
      "8000/8000 [==============================] - 3s 367us/step - loss: 1.5565 - acc: 0.4264 - val_loss: 0.8410 - val_acc: 0.7075\n",
      "Epoch 2/50\n",
      "8000/8000 [==============================] - 1s 88us/step - loss: 0.8524 - acc: 0.6808 - val_loss: 0.6423 - val_acc: 0.7625\n",
      "Epoch 3/50\n",
      "8000/8000 [==============================] - 1s 87us/step - loss: 0.7088 - acc: 0.7366 - val_loss: 0.5935 - val_acc: 0.7835\n",
      "Epoch 4/50\n",
      "8000/8000 [==============================] - 1s 86us/step - loss: 0.6251 - acc: 0.7574 - val_loss: 0.5340 - val_acc: 0.8005\n",
      "Epoch 5/50\n",
      "8000/8000 [==============================] - 1s 88us/step - loss: 0.5824 - acc: 0.7812 - val_loss: 0.5010 - val_acc: 0.8195\n",
      "Epoch 6/50\n",
      "8000/8000 [==============================] - 1s 87us/step - loss: 0.5457 - acc: 0.7930 - val_loss: 0.4655 - val_acc: 0.8360\n",
      "Epoch 7/50\n",
      "8000/8000 [==============================] - 1s 99us/step - loss: 0.5112 - acc: 0.8049 - val_loss: 0.4582 - val_acc: 0.8260\n",
      "Epoch 8/50\n",
      "8000/8000 [==============================] - 1s 85us/step - loss: 0.4961 - acc: 0.8127 - val_loss: 0.4413 - val_acc: 0.8380\n",
      "Epoch 9/50\n",
      "8000/8000 [==============================] - 1s 87us/step - loss: 0.4712 - acc: 0.8233 - val_loss: 0.4162 - val_acc: 0.8450\n",
      "Epoch 10/50\n",
      "8000/8000 [==============================] - 1s 88us/step - loss: 0.4472 - acc: 0.8339 - val_loss: 0.3990 - val_acc: 0.8530\n",
      "Epoch 11/50\n",
      "8000/8000 [==============================] - 1s 88us/step - loss: 0.4318 - acc: 0.8443 - val_loss: 0.3835 - val_acc: 0.8575\n",
      "Epoch 12/50\n",
      "8000/8000 [==============================] - 1s 87us/step - loss: 0.4102 - acc: 0.8445 - val_loss: 0.3706 - val_acc: 0.8645\n",
      "Epoch 13/50\n",
      "8000/8000 [==============================] - 1s 87us/step - loss: 0.4137 - acc: 0.8508 - val_loss: 0.3739 - val_acc: 0.8615\n",
      "Epoch 14/50\n",
      "8000/8000 [==============================] - 1s 85us/step - loss: 0.3915 - acc: 0.8556 - val_loss: 0.3521 - val_acc: 0.8735\n",
      "Epoch 15/50\n",
      "8000/8000 [==============================] - 1s 88us/step - loss: 0.3716 - acc: 0.8625 - val_loss: 0.3449 - val_acc: 0.8745\n",
      "Epoch 16/50\n",
      "8000/8000 [==============================] - 1s 86us/step - loss: 0.3674 - acc: 0.8641 - val_loss: 0.3411 - val_acc: 0.8790\n",
      "Epoch 17/50\n",
      "8000/8000 [==============================] - 1s 87us/step - loss: 0.3545 - acc: 0.8679 - val_loss: 0.3313 - val_acc: 0.8760\n",
      "Epoch 18/50\n",
      "8000/8000 [==============================] - 1s 86us/step - loss: 0.3496 - acc: 0.8694 - val_loss: 0.3404 - val_acc: 0.8780\n",
      "Epoch 19/50\n",
      "8000/8000 [==============================] - 1s 87us/step - loss: 0.3418 - acc: 0.8714 - val_loss: 0.3339 - val_acc: 0.8755\n",
      "Epoch 20/50\n",
      "8000/8000 [==============================] - 1s 87us/step - loss: 0.3345 - acc: 0.8726 - val_loss: 0.3252 - val_acc: 0.8800\n",
      "Epoch 21/50\n",
      "8000/8000 [==============================] - 1s 86us/step - loss: 0.3205 - acc: 0.8799 - val_loss: 0.3157 - val_acc: 0.8850\n",
      "Epoch 22/50\n",
      "8000/8000 [==============================] - 1s 86us/step - loss: 0.3200 - acc: 0.8834 - val_loss: 0.3228 - val_acc: 0.8850\n",
      "Epoch 23/50\n",
      "8000/8000 [==============================] - 1s 85us/step - loss: 0.3143 - acc: 0.8796 - val_loss: 0.3181 - val_acc: 0.8815\n",
      "Epoch 24/50\n",
      "8000/8000 [==============================] - 1s 87us/step - loss: 0.3052 - acc: 0.8859 - val_loss: 0.3207 - val_acc: 0.8810\n",
      "Epoch 25/50\n",
      "8000/8000 [==============================] - 1s 85us/step - loss: 0.2984 - acc: 0.8849 - val_loss: 0.3093 - val_acc: 0.8865\n",
      "Epoch 26/50\n",
      "8000/8000 [==============================] - 1s 86us/step - loss: 0.2811 - acc: 0.8935 - val_loss: 0.3024 - val_acc: 0.8865\n",
      "Epoch 27/50\n",
      "8000/8000 [==============================] - 1s 87us/step - loss: 0.2885 - acc: 0.8918 - val_loss: 0.3115 - val_acc: 0.8825\n",
      "Epoch 28/50\n",
      "8000/8000 [==============================] - 1s 86us/step - loss: 0.2817 - acc: 0.8951 - val_loss: 0.3152 - val_acc: 0.8835\n",
      "Epoch 29/50\n",
      "8000/8000 [==============================] - 1s 87us/step - loss: 0.2809 - acc: 0.8932 - val_loss: 0.3001 - val_acc: 0.8870\n",
      "Epoch 30/50\n",
      "8000/8000 [==============================] - 1s 86us/step - loss: 0.2717 - acc: 0.8972 - val_loss: 0.3009 - val_acc: 0.8870\n",
      "Epoch 31/50\n",
      "8000/8000 [==============================] - 1s 87us/step - loss: 0.2657 - acc: 0.8976 - val_loss: 0.3189 - val_acc: 0.8860\n",
      "Epoch 32/50\n",
      "8000/8000 [==============================] - 1s 86us/step - loss: 0.2640 - acc: 0.8972 - val_loss: 0.2989 - val_acc: 0.8885\n",
      "Epoch 33/50\n",
      "8000/8000 [==============================] - 1s 87us/step - loss: 0.2636 - acc: 0.9025 - val_loss: 0.2920 - val_acc: 0.8855\n",
      "Epoch 34/50\n",
      "8000/8000 [==============================] - 1s 87us/step - loss: 0.2536 - acc: 0.9051 - val_loss: 0.2969 - val_acc: 0.8870\n",
      "Epoch 35/50\n",
      "8000/8000 [==============================] - 1s 86us/step - loss: 0.2481 - acc: 0.9091 - val_loss: 0.2950 - val_acc: 0.8915\n",
      "Epoch 36/50\n",
      "8000/8000 [==============================] - 1s 87us/step - loss: 0.2426 - acc: 0.9101 - val_loss: 0.3034 - val_acc: 0.8865\n",
      "Epoch 37/50\n",
      "8000/8000 [==============================] - 1s 85us/step - loss: 0.2395 - acc: 0.9105 - val_loss: 0.2948 - val_acc: 0.8940\n",
      "Epoch 38/50\n",
      "8000/8000 [==============================] - 1s 88us/step - loss: 0.2340 - acc: 0.9136 - val_loss: 0.3000 - val_acc: 0.8880\n",
      "Epoch 39/50\n",
      "8000/8000 [==============================] - 1s 86us/step - loss: 0.2316 - acc: 0.9105 - val_loss: 0.2992 - val_acc: 0.8845\n",
      "Epoch 40/50\n",
      "8000/8000 [==============================] - 1s 87us/step - loss: 0.2330 - acc: 0.9120 - val_loss: 0.3072 - val_acc: 0.8930\n",
      "Epoch 41/50\n",
      "8000/8000 [==============================] - 1s 86us/step - loss: 0.2337 - acc: 0.9107 - val_loss: 0.2929 - val_acc: 0.8935\n",
      "Epoch 42/50\n",
      "8000/8000 [==============================] - 1s 87us/step - loss: 0.2168 - acc: 0.9151 - val_loss: 0.2939 - val_acc: 0.8940\n",
      "Epoch 43/50\n",
      "8000/8000 [==============================] - 1s 87us/step - loss: 0.2204 - acc: 0.9183 - val_loss: 0.2937 - val_acc: 0.8915\n",
      "Epoch 44/50\n",
      "8000/8000 [==============================] - 1s 86us/step - loss: 0.2119 - acc: 0.9197 - val_loss: 0.2933 - val_acc: 0.8895\n",
      "Epoch 45/50\n",
      "8000/8000 [==============================] - 1s 86us/step - loss: 0.2030 - acc: 0.9231 - val_loss: 0.2972 - val_acc: 0.8940\n",
      "Epoch 46/50\n",
      "8000/8000 [==============================] - 1s 85us/step - loss: 0.2033 - acc: 0.9215 - val_loss: 0.2936 - val_acc: 0.8960\n",
      "Epoch 47/50\n",
      "8000/8000 [==============================] - 1s 86us/step - loss: 0.2104 - acc: 0.9206 - val_loss: 0.2917 - val_acc: 0.8950\n",
      "Epoch 48/50\n",
      "8000/8000 [==============================] - 1s 83us/step - loss: 0.1987 - acc: 0.9233 - val_loss: 0.3028 - val_acc: 0.8900\n",
      "Epoch 49/50\n",
      "8000/8000 [==============================] - 1s 84us/step - loss: 0.1913 - acc: 0.9254 - val_loss: 0.2917 - val_acc: 0.8940\n",
      "Epoch 50/50\n",
      "8000/8000 [==============================] - 1s 84us/step - loss: 0.1970 - acc: 0.9251 - val_loss: 0.2925 - val_acc: 0.8925\n"
     ]
    }
   ],
   "source": [
    "history = model.fit(X_train, y_train,\n",
    "          batch_size=batch_size,\n",
    "          epochs=epochs,\n",
    "          verbose=1,\n",
    "          validation_data=(X_val, y_val))\n",
    "score = model.evaluate(X_test, y_test, verbose=0)"
   ]
  },
  {
   "cell_type": "code",
   "execution_count": 0,
   "metadata": {
    "colab": {},
    "colab_type": "code",
    "id": "KB-Mr83sYjkY"
   },
   "outputs": [],
   "source": [
    "model.save('fashion_mnist.h5')"
   ]
  },
  {
   "cell_type": "code",
   "execution_count": 14,
   "metadata": {
    "colab": {
     "base_uri": "https://localhost:8080/",
     "height": 543
    },
    "colab_type": "code",
    "id": "pcWPiiTLYfw9",
    "outputId": "fad3d4e5-70ba-4337-f55a-5314f3616057"
   },
   "outputs": [
    {
     "data": {
      "image/png": "[encoded data removed]",
      "text/plain": [
       "<matplotlib.figure.Figure at 0x7fde4b0076a0>"
      ]
     },
     "metadata": {
      "tags": []
     },
     "output_type": "display_data"
    },
    {
     "data": {
      "image/png": "[encoded data removed]",
      "text/plain": [
       "<matplotlib.figure.Figure at 0x7fddd39fd208>"
      ]
     },
     "metadata": {
      "tags": []
     },
     "output_type": "display_data"
    }
   ],
   "source": [
    "import matplotlib.pyplot as plt\n",
    "%matplotlib inline\n",
    "accuracy = history.history['acc']\n",
    "val_accuracy = history.history['val_acc']\n",
    "loss = history.history['loss']\n",
    "val_loss = history.history['val_loss']\n",
    "epochs = range(len(accuracy))\n",
    "plt.plot(epochs, accuracy, 'bo', label='Training accuracy')\n",
    "plt.plot(epochs, val_accuracy, 'b', label='Validation accuracy')\n",
    "plt.title('Training and validation accuracy')\n",
    "plt.legend()\n",
    "plt.figure()\n",
    "plt.plot(epochs, loss, 'bo', label='Training loss')\n",
    "plt.plot(epochs, val_loss, 'b', label='Validation loss')\n",
    "plt.title('Training and validation loss')\n",
    "plt.legend()\n",
    "plt.show()"
   ]
  },
  {
   "cell_type": "code",
   "execution_count": 0,
   "metadata": {
    "colab": {},
    "colab_type": "code",
    "id": "nDU7w8kFYgXJ"
   },
   "outputs": [],
   "source": [
    "from google.colab import files\n",
    "files.download('fashion_mnist.h5')"
   ]
  },
  {
   "cell_type": "code",
   "execution_count": 0,
   "metadata": {
    "colab": {},
    "colab_type": "code",
    "id": "a7bu-3eWZUfm"
   },
   "outputs": [],
   "source": [
    "#get the predictions for the test data\n",
    "predicted_classes = model.predict_classes(X_test)\n",
    "\n",
    "#get the indices to be plotted\n",
    "y_true = data_test.iloc[:, 0]\n",
    "correct = np.nonzero(predicted_classes==y_true)[0]\n",
    "incorrect = np.nonzero(predicted_classes!=y_true)[0]"
   ]
  },
  {
   "cell_type": "code",
   "execution_count": 21,
   "metadata": {
    "colab": {
     "base_uri": "https://localhost:8080/",
     "height": 287
    },
    "colab_type": "code",
    "id": "daRcSnnLZzbK",
    "outputId": "592229ea-c3ea-4ff4-fb6d-d2be603c9926"
   },
   "outputs": [
    {
     "name": "stdout",
     "output_type": "stream",
     "text": [
      "             precision    recall  f1-score   support\n",
      "\n",
      "    Class 0       0.79      0.90      0.84       103\n",
      "    Class 1       1.00      0.95      0.97        82\n",
      "    Class 2       0.79      0.92      0.85        89\n",
      "    Class 3       0.87      0.90      0.88       107\n",
      "    Class 4       0.81      0.82      0.82       107\n",
      "    Class 5       0.95      0.96      0.95        76\n",
      "    Class 6       0.78      0.54      0.64       103\n",
      "    Class 7       0.95      0.95      0.95        96\n",
      "    Class 8       0.99      0.99      0.99        91\n",
      "    Class 9       0.95      0.95      0.95        88\n",
      "\n",
      "avg / total       0.88      0.88      0.88       942\n",
      "\n"
     ]
    }
   ],
   "source": [
    "from sklearn.metrics import classification_report\n",
    "target_names = [\"Class {}\".format(i) for i in range(num_classes)]\n",
    "print(classification_report(y_true, predicted_classes, target_names=target_names))"
   ]
  },
  {
   "cell_type": "code",
   "execution_count": 23,
   "metadata": {
    "colab": {
     "base_uri": "https://localhost:8080/",
     "height": 297
    },
    "colab_type": "code",
    "id": "IETKOvxfZ2U2",
    "outputId": "f4e566ec-803e-4bf1-c063-503707fe58f2"
   },
   "outputs": [
    {
     "data": {
      "image/png": "[encoded data removed]",
      "text/plain": [
       "<matplotlib.figure.Figure at 0x7fddd1911c88>"
      ]
     },
     "metadata": {
      "tags": []
     },
     "output_type": "display_data"
    }
   ],
   "source": [
    "for i, correct in enumerate(correct[:9]):\n",
    "    plt.subplot(3,3,i+1)\n",
    "    plt.imshow(X_test[correct].reshape(28,28), cmap='gray', interpolation='none')\n",
    "    plt.title(\"Predicted {}, Class {}\".format(predicted_classes[correct], y_true[correct]))\n",
    "    plt.tight_layout()"
   ]
  },
  {
   "cell_type": "code",
   "execution_count": 24,
   "metadata": {
    "colab": {
     "base_uri": "https://localhost:8080/",
     "height": 297
    },
    "colab_type": "code",
    "id": "zUCFKcK0aIIy",
    "outputId": "0190efdb-ef52-4241-dac2-0e760a941afd"
   },
   "outputs": [
    {
     "data": {
      "image/png": "[encoded data removed]",
      "text/plain": [
       "<matplotlib.figure.Figure at 0x7fdde89abf60>"
      ]
     },
     "metadata": {
      "tags": []
     },
     "output_type": "display_data"
    }
   ],
   "source": [
    "for i, incorrect in enumerate(incorrect[0:9]):\n",
    "    plt.subplot(3,3,i+1)\n",
    "    plt.imshow(X_test[incorrect].reshape(28,28), cmap='gray', interpolation='none')\n",
    "    plt.title(\"Predicted {}, Class {}\".format(predicted_classes[incorrect], y_true[incorrect]))\n",
    "    plt.tight_layout()"
   ]
  },
  {
   "cell_type": "code",
   "execution_count": 25,
   "metadata": {
    "colab": {
     "base_uri": "https://localhost:8080/",
     "height": 265
    },
    "colab_type": "code",
    "id": "T7iZIb_daL4K",
    "outputId": "6ee50c06-dad6-4fed-ffea-537e9b7cd705"
   },
   "outputs": [
    {
     "data": {
      "image/png": "[encoded data removed]",
      "text/plain": [
       "<matplotlib.figure.Figure at 0x7fddd1911be0>"
      ]
     },
     "metadata": {
      "tags": []
     },
     "output_type": "display_data"
    }
   ],
   "source": [
    "test_im = X_train[154]\n",
    "plt.imshow(test_im.reshape(28,28), cmap='viridis', interpolation='none')\n",
    "plt.show()"
   ]
  },
  {
   "cell_type": "code",
   "execution_count": 26,
   "metadata": {
    "colab": {
     "base_uri": "https://localhost:8080/",
     "height": 327
    },
    "colab_type": "code",
    "id": "zvnHXq2zaOhW",
    "outputId": "04f80541-ab29-4bc1-bcab-4919347ee3e6"
   },
   "outputs": [
    {
     "name": "stderr",
     "output_type": "stream",
     "text": [
      "/usr/local/lib/python3.6/dist-packages/ipykernel_launcher.py:3: UserWarning: Update your `Model` call to the Keras 2 API: `Model(inputs=Tensor(\"co..., outputs=[<tf.Tenso...)`\n",
      "  This is separate from the ipykernel package so we can avoid doing imports until\n"
     ]
    },
    {
     "data": {
      "text/plain": [
       "<matplotlib.image.AxesImage at 0x7fddd10ca0f0>"
      ]
     },
     "execution_count": 26,
     "metadata": {
      "tags": []
     },
     "output_type": "execute_result"
    },
    {
     "data": {
      "image/png": "[encoded data removed]",
      "text/plain": [
       "<matplotlib.figure.Figure at 0x7fddd148fcf8>"
      ]
     },
     "metadata": {
      "tags": []
     },
     "output_type": "display_data"
    }
   ],
   "source": [
    "from keras import models\n",
    "layer_outputs = [layer.output for layer in model.layers[:8]]\n",
    "activation_model = models.Model(input=model.input, output=layer_outputs)\n",
    "activations = activation_model.predict(test_im.reshape(1,28,28,1))\n",
    "\n",
    "first_layer_activation = activations[0]\n",
    "plt.matshow(first_layer_activation[0, :, :, 4], cmap='viridis')"
   ]
  },
  {
   "cell_type": "code",
   "execution_count": 0,
   "metadata": {
    "colab": {},
    "colab_type": "code",
    "id": "gfHsFSuYaSz6"
   },
   "outputs": [],
   "source": []
  }
 ],
 "metadata": {
  "accelerator": "GPU",
  "colab": {
   "collapsed_sections": [],
   "name": "fashion_mnist.ipynb",
   "provenance": [],
   "version": "0.3.2"
  },
  "kernelspec": {
   "display_name": "Python 3",
   "language": "python",
   "name": "python3"
  },
  "language_info": {
   "codemirror_mode": {
    "name": "ipython",
    "version": 3
   },
   "file_extension": ".py",
   "mimetype": "text/x-python",
   "name": "python",
   "nbconvert_exporter": "python",
   "pygments_lexer": "ipython3",
   "version": "3.6.6"
  }
 },
 "nbformat": 4,
 "nbformat_minor": 1
}
